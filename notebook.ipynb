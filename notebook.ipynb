{
 "cells": [
  {
   "cell_type": "code",
   "execution_count": 3,
   "metadata": {},
   "outputs": [],
   "source": [
    "from dotenv import load_dotenv\n",
    "import os\n",
    "import pandas as pd\n",
    "import re\n",
    "import sqlalchemy\n",
    "from sqlalchemy import create_engine"
   ]
  },
  {
   "cell_type": "code",
   "execution_count": 4,
   "metadata": {},
   "outputs": [
    {
     "name": "stdout",
     "output_type": "stream",
     "text": [
      "<bound method NDFrame.head of        COUNTY_NO  DISTRICT_NO  CYCLE_YEAR  CYCLE_MONTH  CYCLE_YEAR_MONTH  \\\n",
      "0            001            5        1993            1            199301   \n",
      "1            001            5        1993            2            199302   \n",
      "2            001            5        1993            3            199303   \n",
      "3            001            5        1993            4            199304   \n",
      "4            001            5        1993            5            199305   \n",
      "...          ...          ...         ...          ...               ...   \n",
      "231082       507            1        2024            9            202409   \n",
      "231083       507            1        2024           10            202410   \n",
      "231084       507            1        2024           10            202410   \n",
      "231085       507            1        2024           11            202411   \n",
      "231086       507            1        2024           11            202411   \n",
      "\n",
      "        CNTY_OIL_PROD_VOL  CNTY_OIL_ALLOW  CNTY_OIL_ENDING_BAL  \\\n",
      "0                    7355             NaN                  NaN   \n",
      "1                    6312             NaN                  NaN   \n",
      "2                    6222             NaN                  NaN   \n",
      "3                    6139             NaN                  NaN   \n",
      "4                    5785             NaN                  NaN   \n",
      "...                   ...             ...                  ...   \n",
      "231082                  0             NaN                  NaN   \n",
      "231083                  0             NaN                  NaN   \n",
      "231084                  0             NaN                  NaN   \n",
      "231085                  0             NaN                  NaN   \n",
      "231086                  0             NaN                  NaN   \n",
      "\n",
      "        CNTY_GAS_PROD_VOL  CNTY_GAS_ALLOW  ...  CNTY_CSGD_PROD_VOL  \\\n",
      "0                       0             NaN  ...                6347   \n",
      "1                       0             NaN  ...                4919   \n",
      "2                       0             NaN  ...                4973   \n",
      "3                       0             NaN  ...                4410   \n",
      "4                       0             NaN  ...                5961   \n",
      "...                   ...             ...  ...                 ...   \n",
      "231082                  0             NaN  ...                   0   \n",
      "231083                  0             NaN  ...                   0   \n",
      "231084                  0             NaN  ...                   0   \n",
      "231085                  0             NaN  ...                   0   \n",
      "231086                  0             NaN  ...                   0   \n",
      "\n",
      "        CNTY_CSGD_LIMIT  CNTY_CSGD_GAS_LIFT  CNTY_OIL_TOT_DISP  \\\n",
      "0                   NaN                 NaN                NaN   \n",
      "1                   NaN                 NaN                NaN   \n",
      "2                   NaN                 NaN                NaN   \n",
      "3                   NaN                 NaN                NaN   \n",
      "4                   NaN                 NaN                NaN   \n",
      "...                 ...                 ...                ...   \n",
      "231082              NaN                 NaN                NaN   \n",
      "231083              NaN                 NaN                NaN   \n",
      "231084              NaN                 NaN                NaN   \n",
      "231085              NaN                 NaN                NaN   \n",
      "231086              NaN                 NaN                NaN   \n",
      "\n",
      "        CNTY_GAS_TOT_DISP  CNTY_COND_TOT_DISP  CNTY_CSGD_TOT_DISP  \\\n",
      "0                     NaN                 NaN                 NaN   \n",
      "1                     NaN                 NaN                 NaN   \n",
      "2                     NaN                 NaN                 NaN   \n",
      "3                     NaN                 NaN                 NaN   \n",
      "4                     NaN                 NaN                 NaN   \n",
      "...                   ...                 ...                 ...   \n",
      "231082                NaN                 NaN                 NaN   \n",
      "231083                NaN                 NaN                 NaN   \n",
      "231084                NaN                 NaN                 NaN   \n",
      "231085                NaN                 NaN                 NaN   \n",
      "231086                NaN                 NaN                 NaN   \n",
      "\n",
      "        COUNTY_NAME  DISTRICT_NAME  OIL_GAS_CODE  \n",
      "0          ANDERSON             05             O  \n",
      "1          ANDERSON             05             O  \n",
      "2          ANDERSON             05             O  \n",
      "3          ANDERSON             05             O  \n",
      "4          ANDERSON             05             O  \n",
      "...             ...            ...           ...  \n",
      "231082       ZAVALA              1             O  \n",
      "231083       ZAVALA              1             G  \n",
      "231084       ZAVALA              1             O  \n",
      "231085       ZAVALA              1             G  \n",
      "231086       ZAVALA              1             O  \n",
      "\n",
      "[231087 rows x 24 columns]>\n"
     ]
    },
    {
     "name": "stderr",
     "output_type": "stream",
     "text": [
      "C:\\Users\\johnm\\AppData\\Local\\Temp\\ipykernel_21608\\1161791294.py:2: DtypeWarning: Columns (22) have mixed types. Specify dtype option on import or set low_memory=False.\n",
      "  df = pd.read_csv(data_path, dtype={'COUNTY_NO': str})\n"
     ]
    }
   ],
   "source": [
    "data_path = r'C:\\Users\\johnm\\Code\\RRC_Pipeline\\assets\\documents_20241122\\PDQ_DSV\\CSV\\OG_COUNTY_CYCLE_DATA_TABLE.csv'\n",
    "df = pd.read_csv(data_path, dtype={'COUNTY_NO': str})\n",
    "print(df.head)"
   ]
  },
  {
   "cell_type": "code",
   "execution_count": null,
   "metadata": {},
   "outputs": [
    {
     "name": "stdout",
     "output_type": "stream",
     "text": [
      "Index(['COUNTY_NO', 'DISTRICT_NO', 'CYCLE_YEAR', 'CYCLE_MONTH',\n",
      "       'CYCLE_YEAR_MONTH', 'CNTY_OIL_PROD_VOL', 'CNTY_OIL_ALLOW',\n",
      "       'CNTY_OIL_ENDING_BAL', 'CNTY_GAS_PROD_VOL', 'CNTY_GAS_ALLOW',\n",
      "       'CNTY_GAS_LIFT_INJ_VOL', 'CNTY_COND_PROD_VOL', 'CNTY_COND_LIMIT',\n",
      "       'CNTY_COND_ENDING_BAL', 'CNTY_CSGD_PROD_VOL', 'CNTY_CSGD_LIMIT',\n",
      "       'CNTY_CSGD_GAS_LIFT', 'CNTY_OIL_TOT_DISP', 'CNTY_GAS_TOT_DISP',\n",
      "       'CNTY_COND_TOT_DISP', 'CNTY_CSGD_TOT_DISP', 'COUNTY_NAME',\n",
      "       'DISTRICT_NAME', 'OIL_GAS_CODE', 'name', 'lng', 'lat'],\n",
      "      dtype='object')\n"
     ]
    },
    {
     "ename": "KeyError",
     "evalue": "'DISCTRICT_NAME'",
     "output_type": "error",
     "traceback": [
      "\u001b[1;31m---------------------------------------------------------------------------\u001b[0m",
      "\u001b[1;31mKeyError\u001b[0m                                  Traceback (most recent call last)",
      "File \u001b[1;32mc:\\Users\\johnm\\Code\\RRC_Pipeline\\venv\\Lib\\site-packages\\pandas\\core\\indexes\\base.py:3805\u001b[0m, in \u001b[0;36mIndex.get_loc\u001b[1;34m(self, key)\u001b[0m\n\u001b[0;32m   3804\u001b[0m \u001b[38;5;28;01mtry\u001b[39;00m:\n\u001b[1;32m-> 3805\u001b[0m     \u001b[38;5;28;01mreturn\u001b[39;00m \u001b[38;5;28;43mself\u001b[39;49m\u001b[38;5;241;43m.\u001b[39;49m\u001b[43m_engine\u001b[49m\u001b[38;5;241;43m.\u001b[39;49m\u001b[43mget_loc\u001b[49m\u001b[43m(\u001b[49m\u001b[43mcasted_key\u001b[49m\u001b[43m)\u001b[49m\n\u001b[0;32m   3806\u001b[0m \u001b[38;5;28;01mexcept\u001b[39;00m \u001b[38;5;167;01mKeyError\u001b[39;00m \u001b[38;5;28;01mas\u001b[39;00m err:\n",
      "File \u001b[1;32mindex.pyx:167\u001b[0m, in \u001b[0;36mpandas._libs.index.IndexEngine.get_loc\u001b[1;34m()\u001b[0m\n",
      "File \u001b[1;32mindex.pyx:196\u001b[0m, in \u001b[0;36mpandas._libs.index.IndexEngine.get_loc\u001b[1;34m()\u001b[0m\n",
      "File \u001b[1;32mpandas\\\\_libs\\\\hashtable_class_helper.pxi:7081\u001b[0m, in \u001b[0;36mpandas._libs.hashtable.PyObjectHashTable.get_item\u001b[1;34m()\u001b[0m\n",
      "File \u001b[1;32mpandas\\\\_libs\\\\hashtable_class_helper.pxi:7089\u001b[0m, in \u001b[0;36mpandas._libs.hashtable.PyObjectHashTable.get_item\u001b[1;34m()\u001b[0m\n",
      "\u001b[1;31mKeyError\u001b[0m: 'DISCTRICT_NAME'",
      "\nThe above exception was the direct cause of the following exception:\n",
      "\u001b[1;31mKeyError\u001b[0m                                  Traceback (most recent call last)",
      "Cell \u001b[1;32mIn[26], line 3\u001b[0m\n\u001b[0;32m      1\u001b[0m \u001b[38;5;66;03m# Data integrity checks\u001b[39;00m\n\u001b[0;32m      2\u001b[0m \u001b[38;5;28mprint\u001b[39m(df\u001b[38;5;241m.\u001b[39mcolumns)\n\u001b[1;32m----> 3\u001b[0m \u001b[38;5;28mprint\u001b[39m(\u001b[38;5;28mlen\u001b[39m(\u001b[43mdf\u001b[49m\u001b[43m[\u001b[49m\u001b[38;5;124;43m'\u001b[39;49m\u001b[38;5;124;43mDISCTRICT_NAME\u001b[39;49m\u001b[38;5;124;43m'\u001b[39;49m\u001b[43m]\u001b[49m\u001b[38;5;241m.\u001b[39misna()))\n",
      "File \u001b[1;32mc:\\Users\\johnm\\Code\\RRC_Pipeline\\venv\\Lib\\site-packages\\pandas\\core\\frame.py:4102\u001b[0m, in \u001b[0;36mDataFrame.__getitem__\u001b[1;34m(self, key)\u001b[0m\n\u001b[0;32m   4100\u001b[0m \u001b[38;5;28;01mif\u001b[39;00m \u001b[38;5;28mself\u001b[39m\u001b[38;5;241m.\u001b[39mcolumns\u001b[38;5;241m.\u001b[39mnlevels \u001b[38;5;241m>\u001b[39m \u001b[38;5;241m1\u001b[39m:\n\u001b[0;32m   4101\u001b[0m     \u001b[38;5;28;01mreturn\u001b[39;00m \u001b[38;5;28mself\u001b[39m\u001b[38;5;241m.\u001b[39m_getitem_multilevel(key)\n\u001b[1;32m-> 4102\u001b[0m indexer \u001b[38;5;241m=\u001b[39m \u001b[38;5;28;43mself\u001b[39;49m\u001b[38;5;241;43m.\u001b[39;49m\u001b[43mcolumns\u001b[49m\u001b[38;5;241;43m.\u001b[39;49m\u001b[43mget_loc\u001b[49m\u001b[43m(\u001b[49m\u001b[43mkey\u001b[49m\u001b[43m)\u001b[49m\n\u001b[0;32m   4103\u001b[0m \u001b[38;5;28;01mif\u001b[39;00m is_integer(indexer):\n\u001b[0;32m   4104\u001b[0m     indexer \u001b[38;5;241m=\u001b[39m [indexer]\n",
      "File \u001b[1;32mc:\\Users\\johnm\\Code\\RRC_Pipeline\\venv\\Lib\\site-packages\\pandas\\core\\indexes\\base.py:3812\u001b[0m, in \u001b[0;36mIndex.get_loc\u001b[1;34m(self, key)\u001b[0m\n\u001b[0;32m   3807\u001b[0m     \u001b[38;5;28;01mif\u001b[39;00m \u001b[38;5;28misinstance\u001b[39m(casted_key, \u001b[38;5;28mslice\u001b[39m) \u001b[38;5;129;01mor\u001b[39;00m (\n\u001b[0;32m   3808\u001b[0m         \u001b[38;5;28misinstance\u001b[39m(casted_key, abc\u001b[38;5;241m.\u001b[39mIterable)\n\u001b[0;32m   3809\u001b[0m         \u001b[38;5;129;01mand\u001b[39;00m \u001b[38;5;28many\u001b[39m(\u001b[38;5;28misinstance\u001b[39m(x, \u001b[38;5;28mslice\u001b[39m) \u001b[38;5;28;01mfor\u001b[39;00m x \u001b[38;5;129;01min\u001b[39;00m casted_key)\n\u001b[0;32m   3810\u001b[0m     ):\n\u001b[0;32m   3811\u001b[0m         \u001b[38;5;28;01mraise\u001b[39;00m InvalidIndexError(key)\n\u001b[1;32m-> 3812\u001b[0m     \u001b[38;5;28;01mraise\u001b[39;00m \u001b[38;5;167;01mKeyError\u001b[39;00m(key) \u001b[38;5;28;01mfrom\u001b[39;00m \u001b[38;5;21;01merr\u001b[39;00m\n\u001b[0;32m   3813\u001b[0m \u001b[38;5;28;01mexcept\u001b[39;00m \u001b[38;5;167;01mTypeError\u001b[39;00m:\n\u001b[0;32m   3814\u001b[0m     \u001b[38;5;66;03m# If we have a listlike key, _check_indexing_error will raise\u001b[39;00m\n\u001b[0;32m   3815\u001b[0m     \u001b[38;5;66;03m#  InvalidIndexError. Otherwise we fall through and re-raise\u001b[39;00m\n\u001b[0;32m   3816\u001b[0m     \u001b[38;5;66;03m#  the TypeError.\u001b[39;00m\n\u001b[0;32m   3817\u001b[0m     \u001b[38;5;28mself\u001b[39m\u001b[38;5;241m.\u001b[39m_check_indexing_error(key)\n",
      "\u001b[1;31mKeyError\u001b[0m: 'DISCTRICT_NAME'"
     ]
    }
   ],
   "source": [
    "# Data integrity checks\n",
    "# print(df.columns)S\n",
    "# print(len(df['DISCTRICT_NAME'].isna()))"
   ]
  },
  {
   "cell_type": "code",
   "execution_count": null,
   "metadata": {},
   "outputs": [],
   "source": [
    "# Columns of original data series\n",
    "# print(df.columns)\n",
    "\n",
    "# Counties that have oil production - duplicates exist\n",
    "counties = df.loc[df['CNTY_COND_PROD_VOL'] > 0, 'COUNTY_NAME']\n",
    "\n",
    "# Number of unique counties that have oil production\n",
    "unique_counties = pd.unique(counties)\n",
    "print(\"Number of unique counties that have oil production: \", len(unique_counties))\n",
    "\n",
    "# How many counties in Texas are there?\n",
    "print(\"How many counties in Texas are there? \", len(pd.unique(df['COUNTY_NAME'])))\n"
   ]
  },
  {
   "cell_type": "code",
   "execution_count": null,
   "metadata": {},
   "outputs": [
    {
     "name": "stdout",
     "output_type": "stream",
     "text": [
      "<bound method NDFrame.head of     fips_code       name         lng        lat\n",
      "0         017     Bailey -102.829827  34.068603\n",
      "1         329    Midland -102.031568  31.869041\n",
      "2         251    Johnson  -97.366188  32.378814\n",
      "3         171  Gillespie  -98.946769  30.318241\n",
      "4         085     Collin  -96.572668  33.188227\n",
      "..        ...        ...         ...        ...\n",
      "249       197   Hardeman  -99.745730  34.290290\n",
      "250       187  Guadalupe  -97.948465  29.583214\n",
      "251       389     Reeves -103.693079  31.322833\n",
      "252       489    Willacy  -97.657245  26.470406\n",
      "253       225    Houston  -95.422003  31.317642\n",
      "\n",
      "[254 rows x 4 columns]>\n"
     ]
    }
   ],
   "source": [
    "# Slider on year that you can see a heatmap of production over every year\n",
    "# Create a map that has counties displayed in the map:\n",
    "\n",
    "map_path = r'C:\\Users\\johnm\\Code\\RRC_Pipeline\\assets\\lat-long-us.csv'\n",
    "new_csv = r'C:\\Users\\johnm\\Code\\RRC_Pipeline\\assets\\combined.csv'\n",
    "df_map = pd.read_csv(map_path)\n",
    "\n",
    "df_map = pd.read_csv(map_path, dtype={'fips_code': str}) # Read csv\n",
    "df_map['is_fips_code'] = df_map['fips_code'].str[:2] == '48' # Captures the shortened fips code\n",
    "df_map = df_map[df_map['is_fips_code']].reset_index(drop=True) # Creates a new dataframe without the entries that are not '48'\n",
    "df_map['fips_code'] = df_map['fips_code'].str[2:] # Removing '48' from each entry for future comparisons\n",
    "df_map = df_map[df_map['is_fips_code']].drop(columns=['is_fips_code']) # Dropping is_fips_code\n",
    "df_map = df_map.set_index('fips_code') # Setting index to fips_code so merge will work on index\n",
    "df['COUNTY_NO'] = df['COUNTY_NO'].astype(str) #Ensures the dataframe, df, has county_no's (fips codes) that are a string type.\n",
    "\n",
    "# Left join - type of merge : how= left\n",
    "# The key to join on is the 'COUNTY_NO' - lef_on\n",
    "# The index from right dataframe is the join key - right_index\n",
    "df = df.merge(df_map, left_on='COUNTY_NO', right_index=True, how = 'left') #Merges lookup_df with df\n",
    "\n",
    "unmatched_rows = df[df['lat'].isnull()]['COUNTY_NO'] #Creates a dataframe that tracks null values of dataframe\n",
    "unmatched_rows.to_csv(\"errors.txt\", index=False) #Writes these null values to a csv\n",
    "\n",
    "df.to_csv(new_csv, index = False) # Writes to the final csv"
   ]
  },
  {
   "cell_type": "code",
   "execution_count": null,
   "metadata": {},
   "outputs": [],
   "source": [
    "# Get the average oil production for each county over 1993-2023 - change PBI to display average across all years\n",
    "\n",
    "# Expenses or costs of production\n",
    "\n",
    "# Does this data give anything on byproducts of wells or byproducts that can be used for other purposes?\n",
    "\n",
    "# Find top 10 conties for 2023 production\n",
    "\n",
    "# Find top 10 counties for 1993 production\n",
    "\n",
    "# Number of wells in the permian over time\n",
    "\n",
    "# Can I sample data using a model anadd"
   ]
  },
  {
   "cell_type": "code",
   "execution_count": null,
   "metadata": {},
   "outputs": [],
   "source": [
    "print(df.head)\n",
    "df.to_csv(new_csv, index=False)"
   ]
  },
  {
   "cell_type": "code",
   "execution_count": null,
   "metadata": {},
   "outputs": [
    {
     "name": "stdout",
     "output_type": "stream",
     "text": [
      "Table 'OG_COUNTY_CYCLE_DATA_TABLE' already exists.\n",
      "(0, 1, 5, 1993, 1, 199301, 7355, None, None, 0, None, None, 0, None, None, 6347, None, None, None, None, None, None, 'ANDERSON', '05', 'O')\n",
      "(1, 1, 5, 1993, 2, 199302, 6312, None, None, 0, None, None, 0, None, None, 4919, None, None, None, None, None, None, 'ANDERSON', '05', 'O')\n",
      "(2, 1, 5, 1993, 3, 199303, 6222, None, None, 0, None, None, 0, None, None, 4973, None, None, None, None, None, None, 'ANDERSON', '05', 'O')\n",
      "(3, 1, 5, 1993, 4, 199304, 6139, None, None, 0, None, None, 0, None, None, 4410, None, None, None, None, None, None, 'ANDERSON', '05', 'O')\n",
      "(4, 1, 5, 1993, 5, 199305, 5785, None, None, 0, None, None, 0, None, None, 5961, None, None, None, None, None, None, 'ANDERSON', '05', 'O')\n",
      "(5, 1, 5, 1993, 6, 199306, 4836, None, None, 0, None, None, 0, None, None, 5585, None, None, None, None, None, None, 'ANDERSON', '05', 'O')\n",
      "(6, 1, 5, 1993, 7, 199307, 4779, None, None, 0, None, None, 0, None, None, 6179, None, None, None, None, None, None, 'ANDERSON', '05', 'O')\n",
      "(7, 1, 5, 1993, 8, 199308, 4401, None, None, 0, None, None, 0, None, None, 5019, None, None, None, None, None, None, 'ANDERSON', '05', 'O')\n",
      "(8, 1, 5, 1993, 9, 199309, 4547, None, None, 0, None, None, 0, None, None, 5473, None, None, None, None, None, None, 'ANDERSON', '05', 'O')\n",
      "(9, 1, 5, 1993, 10, 199310, 4832, None, None, 0, None, None, 0, None, None, 6050, None, None, None, None, None, None, 'ANDERSON', '05', 'O')\n"
     ]
    }
   ],
   "source": [
    "load_dotenv()\n",
    "DATABASE_URL = os.getenv('DATABASE_URL')\n",
    "\n",
    "try:\n",
    "    df.to_sql(name=\"OG_COUNTY_CYCLE_DATA_TABLE\", con=engine)\n",
    "except Exception as e:\n",
    "    print(e)\n",
    "\n",
    "from sqlalchemy import text\n",
    "with engine.connect() as conn:\n",
    "    result = conn.execute(text('SELECT * FROM \"OG_COUNTY_CYCLE_DATA_TABLE\" LIMIT 10')).fetchall()\n",
    "\n",
    "for index,row in enumerate(result):\n",
    "    print(result[index])\n",
    "    # print(len(result))\n"
   ]
  }
 ],
 "metadata": {
  "kernelspec": {
   "display_name": "venv",
   "language": "python",
   "name": "python3"
  },
  "language_info": {
   "codemirror_mode": {
    "name": "ipython",
    "version": 3
   },
   "file_extension": ".py",
   "mimetype": "text/x-python",
   "name": "python",
   "nbconvert_exporter": "python",
   "pygments_lexer": "ipython3",
   "version": "3.12.6"
  }
 },
 "nbformat": 4,
 "nbformat_minor": 2
}
